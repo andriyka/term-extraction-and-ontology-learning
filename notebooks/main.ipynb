{
 "cells": [
  {
   "cell_type": "markdown",
   "metadata": {
    "collapsed": true
   },
   "source": [
    "# Report\n",
    "## Part one - PDF to TXT"
   ]
  },
  {
   "cell_type": "code",
   "execution_count": 1,
   "metadata": {},
   "outputs": [
    {
     "data": {
      "text/plain": [
       "'data/pdf'"
      ]
     },
     "execution_count": 1,
     "metadata": {},
     "output_type": "execute_result"
    }
   ],
   "source": [
    "import ConfigParser\n",
    "\n",
    "config = ConfigParser.ConfigParser()\n",
    "config.readfp(open('ate/configuration/config.ini'))\n",
    "\n",
    "pdf_dir=config.get('main',                    \n",
    "                   'pdf_dir')\n",
    "\n",
    "txt_dir=config.get('main', 'txt_dir')\n",
    "\n",
    "pdf_dir"
   ]
  },
  {
   "cell_type": "markdown",
   "metadata": {},
   "source": [
    "Here we are parsing files from PDF to TXT format. Ligatures are removed and the result files are stored in txt_dir\n",
    "The txt_dir would contain all the txt files in the following structure: each sentence in a new line "
   ]
  },
  {
   "cell_type": "code",
   "execution_count": 2,
   "metadata": {},
   "outputs": [
    {
     "name": "stdout",
     "output_type": "stream",
     "text": [
      "[nltk_data] Downloading package punkt to /home/ankus/nltk_data...\n[nltk_data]   Package punkt is already up-to-date!\n[nltk_data] Downloading package averaged_perceptron_tagger to\n[nltk_data]     /home/ankus/nltk_data...\n[nltk_data]   Package averaged_perceptron_tagger is already up-to-\n[nltk_data]       date!\n"
     ]
    },
    {
     "name": "stdout",
     "output_type": "stream",
     "text": [
      "Extracted to data/txt-out\nCPU times: user 1min 32s, sys: 1.74 s, total: 1min 34s\nWall time: 1min 58s\n"
     ]
    }
   ],
   "source": [
    "%%time\n",
    "from pdf2txt import convert_pdf2txt\n",
    "convert_pdf2txt(pdf_dir, txt_dir, verbose=False)"
   ]
  },
  {
   "cell_type": "markdown",
   "metadata": {},
   "source": [
    "## Creating Dataset\n",
    "Now we are ready to combine documents into a dataset for TE and terms groupping\n",
    "A dataset of an arbitrary size could be created in 4 ways: chrono, rev-chrono, bi-directional, random\n",
    "For more details, please check: ate/dataset_generator.py\n",
    "The following directory shows where the dataset going to be stored:\n",
    " "
   ]
  },
  {
   "cell_type": "code",
   "execution_count": 4,
   "metadata": {},
   "outputs": [
    {
     "data": {
      "text/plain": [
       "'data/data_sets/'"
      ]
     },
     "execution_count": 4,
     "metadata": {},
     "output_type": "execute_result"
    }
   ],
   "source": [
    "dataset_dest=config.get('main', 'dataset_dir')\n",
    "dataset_dest"
   ]
  },
  {
   "cell_type": "markdown",
   "metadata": {},
   "source": [
    "Let firstly generate a 50 documents datasets of each type"
   ]
  },
  {
   "cell_type": "code",
   "execution_count": 6,
   "metadata": {},
   "outputs": [],
   "source": [
    "from dataset_generator import create_data_set"
   ]
  },
  {
   "cell_type": "code",
   "execution_count": 5,
   "metadata": {},
   "outputs": [
    {
     "name": "stdout",
     "output_type": "stream",
     "text": [
      "Chronological\ndata/txt-out/TIME-1994-1(1)-Paper-2.txt\ndata/txt-out/TIME-1994-1(1)-paper-1.txt\ndata/txt-out/TIME-1994-1(1)-paper-10.txt\ndata/txt-out/TIME-1994-1(1)-paper-11.txt\ndata/txt-out/TIME-1994-1(1)-paper-12.txt\ndata/txt-out/TIME-1994-1(1)-paper-13.txt\ndata/txt-out/TIME-1994-1(1)-paper-14.txt\ndata/txt-out/TIME-1994-1(1)-paper-15.txt\ndata/txt-out/TIME-1994-1(1)-paper-16.txt\ndata/txt-out/TIME-1994-1(1)-paper-17.txt\ndata/txt-out/TIME-1994-1(1)-paper-18.txt\ndata/txt-out/TIME-1994-1(1)-paper-19.txt\ndata/txt-out/TIME-1994-1(1)-paper-20.txt\ndata/txt-out/TIME-1994-1(1)-paper-21.txt\ndata/txt-out/TIME-1994-1(1)-paper-3.txt\ndata/txt-out/TIME-1994-1(1)-paper-4.txt\ndata/txt-out/TIME-1994-1(1)-paper-5.txt\ndata/txt-out/TIME-1994-1(1)-paper-6.txt\ndata/txt-out/TIME-1994-1(1)-paper-7.txt\ndata/txt-out/TIME-1994-1(1)-paper-8.txt\ndata/txt-out/TIME-1994-1(1)-paper-9.txt\ndata/txt-out/TIME-1995-1(1)-paper-10.txt\ndata/txt-out/TIME-1995-1(1)-paper-11.txt\ndata/txt-out/TIME-1995-1(1)-paper-12.txt\ndata/txt-out/TIME-1995-1(1)-paper-13.txt\ndata/txt-out/TIME-1995-1(1)-paper-14.txt\ndata/txt-out/TIME-1995-1(1)-paper-15.txt\ndata/txt-out/TIME-1995-1(1)-paper-16.txt\ndata/txt-out/TIME-1995-1(1)-paper-17.txt\ndata/txt-out/TIME-1995-1(1)-paper-18.txt\ndata/txt-out/TIME-1995-1(1)-paper-2.txt\ndata/txt-out/TIME-1995-1(1)-paper-20.txt\ndata/txt-out/TIME-1995-1(1)-paper-21.txt\ndata/txt-out/TIME-1995-1(1)-paper-22.txt\ndata/txt-out/TIME-1995-1(1)-paper-3.txt\ndata/txt-out/TIME-1995-1(1)-paper-4.txt\ndata/txt-out/TIME-1995-1(1)-paper-5.txt\ndata/txt-out/TIME-1995-1(1)-paper-6.txt\ndata/txt-out/TIME-1995-1(1)-paper-7.txt\ndata/txt-out/TIME-1995-1(1)-paper-8.txt\ndata/txt-out/TIME-1995-1(1)-paper-9.txt\ndata/txt-out/TIME-1996-1(1)-paper-01.txt\ndata/txt-out/TIME-1996-1(1)-paper-02.txt\ndata/txt-out/TIME-1996-1(1)-paper-03.txt\ndata/txt-out/TIME-1996-1(1)-paper-04.txt\ndata/txt-out/TIME-1996-1(1)-paper-05.txt\ndata/txt-out/TIME-1996-1(1)-paper-06.txt\ndata/txt-out/TIME-1996-1(1)-paper-07.txt\ndata/txt-out/TIME-1996-1(1)-paper-08.txt\ndata/txt-out/TIME-1996-1(1)-paper-09.txt\nResults at: data/data_sets/\nCPU times: user 20 ms, sys: 147 µs, total: 20.2 ms\nWall time: 41.2 ms\n"
     ]
    }
   ],
   "source": [
    "%%time\n",
    "print('Chronological')\n",
    "create_data_set(txt_source_dir = txt_dir, dataset_dest_key = dataset_dest, sample_type = 'chrono', sample_size = 50)\n",
    "print('Results at: {}'.format(dataset_dest))"
   ]
  },
  {
   "cell_type": "code",
   "execution_count": 6,
   "metadata": {},
   "outputs": [
    {
     "name": "stdout",
     "output_type": "stream",
     "text": [
      "Rev Chronological\ndata/txt-out/TIME-2013-1(1)-paper-18.txt\ndata/txt-out/TIME-2013-1(1)-paper-17.txt\ndata/txt-out/TIME-2013-1(1)-paper-16.txt\ndata/txt-out/TIME-2013-1(1)-paper-15.txt\ndata/txt-out/TIME-2013-1(1)-paper-14.txt\ndata/txt-out/TIME-2013-1(1)-paper-13.txt\ndata/txt-out/TIME-2013-1(1)-paper-12.txt\ndata/txt-out/TIME-2013-1(1)-paper-11.txt\ndata/txt-out/TIME-2013-1(1)-paper-10.txt\ndata/txt-out/TIME-2013-1(1)-paper-09.txt\ndata/txt-out/TIME-2013-1(1)-paper-08.txt\ndata/txt-out/TIME-2013-1(1)-paper-07.txt\ndata/txt-out/TIME-2013-1(1)-paper-06.txt\ndata/txt-out/TIME-2013-1(1)-paper-05.txt\ndata/txt-out/TIME-2013-1(1)-paper-04.txt\ndata/txt-out/TIME-2013-1(1)-paper-03.txt\ndata/txt-out/TIME-2013-1(1)-paper-02.txt\ndata/txt-out/TIME-2013-1(1)-paper-01.txt\ndata/txt-out/TIME-2012-1(1)-slides-02.txt\ndata/txt-out/TIME-2012-1(1)-slides-01.txt\ndata/txt-out/TIME-2012-1(1)-paper-19.txt\ndata/txt-out/TIME-2012-1(1)-paper-18.txt\ndata/txt-out/TIME-2012-1(1)-paper-17.txt\ndata/txt-out/TIME-2012-1(1)-paper-16.txt\ndata/txt-out/TIME-2012-1(1)-paper-15.txt\ndata/txt-out/TIME-2012-1(1)-paper-14.txt\ndata/txt-out/TIME-2012-1(1)-paper-13.txt\ndata/txt-out/TIME-2012-1(1)-paper-12.txt\ndata/txt-out/TIME-2012-1(1)-paper-11.txt\ndata/txt-out/TIME-2012-1(1)-paper-10.txt\ndata/txt-out/TIME-2012-1(1)-paper-09.txt\ndata/txt-out/TIME-2012-1(1)-paper-08.txt\ndata/txt-out/TIME-2012-1(1)-paper-07.txt\ndata/txt-out/TIME-2012-1(1)-paper-05.txt\ndata/txt-out/TIME-2012-1(1)-paper-04.txt\ndata/txt-out/TIME-2012-1(1)-paper-03.txt\ndata/txt-out/TIME-2011-1(1)-slides-03.txt\ndata/txt-out/TIME-2011-1(1)-slides-02.txt\ndata/txt-out/TIME-2011-1(1)-paper-23.txt\ndata/txt-out/TIME-2011-1(1)-paper-22.txt\ndata/txt-out/TIME-2011-1(1)-paper-21.txt\ndata/txt-out/TIME-2011-1(1)-paper-20.txt\ndata/txt-out/TIME-2011-1(1)-paper-19.txt\ndata/txt-out/TIME-2011-1(1)-paper-18.txt\ndata/txt-out/TIME-2011-1(1)-paper-17.txt\ndata/txt-out/TIME-2011-1(1)-paper-16.txt\ndata/txt-out/TIME-2011-1(1)-paper-15.txt\ndata/txt-out/TIME-2011-1(1)-paper-14.txt\ndata/txt-out/TIME-2011-1(1)-paper-13.txt\ndata/txt-out/TIME-2011-1(1)-paper-12.txt\nResults at: data/data_sets/\nCPU times: user 15.1 ms, sys: 8.06 ms, total: 23.1 ms\nWall time: 29.1 ms\n"
     ]
    }
   ],
   "source": [
    "%%time\n",
    "print('Rev Chronological')\n",
    "create_data_set(txt_source_dir = txt_dir, dataset_dest_key = dataset_dest, sample_type = 'rev_chrono', sample_size = 50)\n",
    "print('Results at: {}'.format(dataset_dest))"
   ]
  },
  {
   "cell_type": "code",
   "execution_count": 7,
   "metadata": {},
   "outputs": [
    {
     "name": "stdout",
     "output_type": "stream",
     "text": [
      "Bi-directional\ndata/txt-out/TIME-1994-1(1)-Paper-2.txt\ndata/txt-out/TIME-2013-1(1)-paper-18.txt\ndata/txt-out/TIME-1994-1(1)-paper-10.txt\ndata/txt-out/TIME-2013-1(1)-paper-16.txt\ndata/txt-out/TIME-1994-1(1)-paper-12.txt\ndata/txt-out/TIME-2013-1(1)-paper-14.txt\ndata/txt-out/TIME-1994-1(1)-paper-14.txt\ndata/txt-out/TIME-2013-1(1)-paper-12.txt\ndata/txt-out/TIME-1994-1(1)-paper-16.txt\ndata/txt-out/TIME-2013-1(1)-paper-10.txt\ndata/txt-out/TIME-1994-1(1)-paper-18.txt\ndata/txt-out/TIME-2013-1(1)-paper-08.txt\ndata/txt-out/TIME-1994-1(1)-paper-20.txt\ndata/txt-out/TIME-2013-1(1)-paper-06.txt\ndata/txt-out/TIME-1994-1(1)-paper-3.txt\ndata/txt-out/TIME-2013-1(1)-paper-04.txt\ndata/txt-out/TIME-1994-1(1)-paper-5.txt\ndata/txt-out/TIME-2013-1(1)-paper-02.txt\ndata/txt-out/TIME-1994-1(1)-paper-7.txt\ndata/txt-out/TIME-2012-1(1)-slides-02.txt\ndata/txt-out/TIME-1994-1(1)-paper-9.txt\ndata/txt-out/TIME-2012-1(1)-paper-19.txt\ndata/txt-out/TIME-1995-1(1)-paper-11.txt\ndata/txt-out/TIME-2012-1(1)-paper-17.txt\ndata/txt-out/TIME-1995-1(1)-paper-13.txt\ndata/txt-out/TIME-2012-1(1)-paper-15.txt\ndata/txt-out/TIME-1995-1(1)-paper-15.txt\ndata/txt-out/TIME-2012-1(1)-paper-13.txt\ndata/txt-out/TIME-1995-1(1)-paper-17.txt\ndata/txt-out/TIME-2012-1(1)-paper-11.txt\ndata/txt-out/TIME-1995-1(1)-paper-2.txt\ndata/txt-out/TIME-2012-1(1)-paper-09.txt\ndata/txt-out/TIME-1995-1(1)-paper-21.txt\ndata/txt-out/TIME-2012-1(1)-paper-07.txt\ndata/txt-out/TIME-1995-1(1)-paper-3.txt\ndata/txt-out/TIME-2012-1(1)-paper-04.txt\ndata/txt-out/TIME-1995-1(1)-paper-5.txt\ndata/txt-out/TIME-2011-1(1)-slides-03.txt\ndata/txt-out/TIME-1995-1(1)-paper-7.txt\ndata/txt-out/TIME-2011-1(1)-paper-23.txt\ndata/txt-out/TIME-1995-1(1)-paper-9.txt\ndata/txt-out/TIME-2011-1(1)-paper-21.txt\ndata/txt-out/TIME-1996-1(1)-paper-02.txt\ndata/txt-out/TIME-2011-1(1)-paper-19.txt\ndata/txt-out/TIME-1996-1(1)-paper-04.txt"
     ]
    },
    {
     "name": "stdout",
     "output_type": "stream",
     "text": [
      "\ndata/txt-out/TIME-2011-1(1)-paper-17.txt\ndata/txt-out/TIME-1996-1(1)-paper-06.txt\ndata/txt-out/TIME-2011-1(1)-paper-15.txt\ndata/txt-out/TIME-1996-1(1)-paper-08.txt\ndata/txt-out/TIME-2011-1(1)-paper-13.txt\nResults at: data/data_sets/\nCPU times: user 18.9 ms, sys: 8.05 ms, total: 27 ms\nWall time: 27.6 ms\n"
     ]
    }
   ],
   "source": [
    "%%time\n",
    "print('Bi-directional')\n",
    "create_data_set(txt_source_dir = txt_dir, dataset_dest_key = dataset_dest, sample_type = 'bi_dir', sample_size = 50)\n",
    "print('Results at: {}'.format(dataset_dest))"
   ]
  },
  {
   "cell_type": "code",
   "execution_count": 8,
   "metadata": {},
   "outputs": [
    {
     "name": "stdout",
     "output_type": "stream",
     "text": [
      "Random\n"
     ]
    },
    {
     "name": "stdout",
     "output_type": "stream",
     "text": [
      "data/txt-out/TIME-2011-1(1)-paper-14.txt\ndata/txt-out/TIME-1995-1(1)-paper-12.txt\ndata/txt-out/TIME-1995-1(1)-paper-10.txt\ndata/txt-out/TIME-1995-1(1)-paper-22.txt\ndata/txt-out/TIME-2004-1(1)-paper-05.txt\ndata/txt-out/TIME-2010-1(1)-paper-21.txt\ndata/txt-out/TIME-2013-1(1)-paper-07.txt\ndata/txt-out/TIME-1994-1(1)-paper-3.txt\ndata/txt-out/TIME-2010-1(1)-slides-04.txt\ndata/txt-out/TIME-2000-1(1)-paper-19.txt\ndata/txt-out/TIME-2009-1(1)-paper-15.txt\ndata/txt-out/TIME-2002-1(1)-paper-06.txt\ndata/txt-out/TIME-2000-1(1)-paper-3.txt\ndata/txt-out/TIME-1999-1(1)-paper-12.txt\ndata/txt-out/TIME-2002-1(1)-paper-08.txt\ndata/txt-out/TIME-2000-1(1)-paper-4.txt\ndata/txt-out/TIME-1999-1(1)-paper-2.txt\ndata/txt-out/TIME-2005-1(1)-paper-22.txt\ndata/txt-out/TIME-2009-1(1)-paper-09.txt\ndata/txt-out/TIME-1995-1(1)-paper-11.txt\ndata/txt-out/TIME-2005-1(1)-paper-06.txt\ndata/txt-out/TIME-2011-1(1)-paper-12.txt\ndata/txt-out/TIME-2003-1(1)-paper-23.txt\ndata/txt-out/TIME-2005-1(1)-paper-21.txt\ndata/txt-out/TIME-2010-1(1)-paper-01.txt\ndata/txt-out/TIME-2001-1(1)-paper-21.txt\ndata/txt-out/TIME-1995-1(1)-paper-14.txt\ndata/txt-out/TIME-1998-1(1)-paper-11.txt\ndata/txt-out/TIME-2003-1(1)-paper-01.txt\ndata/txt-out/TIME-1997-1(1)-paper-01.txt\ndata/txt-out/TIME-2006-1(1)-paper-06.txt\ndata/txt-out/TIME-2013-1(1)-paper-09.txt\ndata/txt-out/TIME-2012-1(1)-paper-11.txt\ndata/txt-out/TIME-2006-1(1)-paper-11.txt\ndata/txt-out/TIME-2006-1(1)-paper-09.txt\ndata/txt-out/TIME-2003-1(1)-paper-18.txt\ndata/txt-out/TIME-2005-1(1)-paper-02.txt\ndata/txt-out/TIME-2000-1(1)-paper-7.txt\ndata/txt-out/TIME-1996-1(1)-paper-22.txt\ndata/txt-out/TIME-2003-1(1)-paper-03.txt\ndata/txt-out/TIME-2013-1(1)-paper-17.txt\ndata/txt-out/TIME-2002-1(1)-paper-11.txt\ndata/txt-out/TIME-1998-1(1)-paper-8.txt\ndata/txt-out/TIME-1997-1(1)-paper-13.txt\ndata/txt-out/TIME-2011-1(1)-paper-04.txt\ndata/txt-out/TIME-2003-1(1)-paper-20.txt\ndata/txt-out/TIME-2009-1(1)-paper-17.txt\ndata/txt-out/TIME-1996-1(1)-paper-21.txt\ndata/txt-out/TIME-2002-1(1)-paper-09.txt\ndata/txt-out/TIME-2004-1(1)-paper-18.txt\nResults at: data/data_sets/\nCPU times: user 27.1 ms, sys: 4.13 ms, total: 31.2 ms\nWall time: 41.1 ms\n"
     ]
    }
   ],
   "source": [
    "%%time\n",
    "print('Random')\n",
    "create_data_set(txt_source_dir = txt_dir, dataset_dest_key = dataset_dest, sample_type = 'rand', sample_size = 50)\n",
    "print('Results at: {}'.format(dataset_dest))"
   ]
  },
  {
   "cell_type": "markdown",
   "metadata": {},
   "source": [
    "Now, we would create a single dataset in rev-chrono order from the whole dataset"
   ]
  },
  {
   "cell_type": "code",
   "execution_count": 9,
   "metadata": {},
   "outputs": [
    {
     "name": "stdout",
     "output_type": "stream",
     "text": [
      "rev_chrono full\ndata/txt-out/TIME-2013-1(1)-paper-18.txt\ndata/txt-out/TIME-2013-1(1)-paper-17.txt\ndata/txt-out/TIME-2013-1(1)-paper-16.txt\ndata/txt-out/TIME-2013-1(1)-paper-15.txt\ndata/txt-out/TIME-2013-1(1)-paper-14.txt\ndata/txt-out/TIME-2013-1(1)-paper-13.txt\ndata/txt-out/TIME-2013-1(1)-paper-12.txt\ndata/txt-out/TIME-2013-1(1)-paper-11.txt\ndata/txt-out/TIME-2013-1(1)-paper-10.txt\ndata/txt-out/TIME-2013-1(1)-paper-09.txt\ndata/txt-out/TIME-2013-1(1)-paper-08.txt\ndata/txt-out/TIME-2013-1(1)-paper-07.txt\ndata/txt-out/TIME-2013-1(1)-paper-06.txt\ndata/txt-out/TIME-2013-1(1)-paper-05.txt\ndata/txt-out/TIME-2013-1(1)-paper-04.txt\ndata/txt-out/TIME-2013-1(1)-paper-03.txt\ndata/txt-out/TIME-2013-1(1)-paper-02.txt\ndata/txt-out/TIME-2013-1(1)-paper-01.txt\ndata/txt-out/TIME-2012-1(1)-slides-02.txt\ndata/txt-out/TIME-2012-1(1)-slides-01.txt\ndata/txt-out/TIME-2012-1(1)-paper-19.txt\ndata/txt-out/TIME-2012-1(1)-paper-18.txt\ndata/txt-out/TIME-2012-1(1)-paper-17.txt\ndata/txt-out/TIME-2012-1(1)-paper-16.txt\ndata/txt-out/TIME-2012-1(1)-paper-15.txt\ndata/txt-out/TIME-2012-1(1)-paper-14.txt\ndata/txt-out/TIME-2012-1(1)-paper-13.txt\ndata/txt-out/TIME-2012-1(1)-paper-12.txt\ndata/txt-out/TIME-2012-1(1)-paper-11.txt\ndata/txt-out/TIME-2012-1(1)-paper-10.txt\ndata/txt-out/TIME-2012-1(1)-paper-09.txt\ndata/txt-out/TIME-2012-1(1)-paper-08.txt\ndata/txt-out/TIME-2012-1(1)-paper-07.txt\ndata/txt-out/TIME-2012-1(1)-paper-05.txt\ndata/txt-out/TIME-2012-1(1)-paper-04.txt\ndata/txt-out/TIME-2012-1(1)-paper-03.txt\ndata/txt-out/TIME-2011-1(1)-slides-03.txt\ndata/txt-out/TIME-2011-1(1)-slides-02.txt\ndata/txt-out/TIME-2011-1(1)-paper-23.txt\ndata/txt-out/TIME-2011-1(1)-paper-22.txt\ndata/txt-out/TIME-2011-1(1)-paper-21.txt\ndata/txt-out/TIME-2011-1(1)-paper-20.txt\ndata/txt-out/TIME-2011-1(1)-paper-19.txt\ndata/txt-out/TIME-2011-1(1)-paper-18.txt\ndata/txt-out/TIME-2011-1(1)-paper-17.txt\ndata/txt-out/TIME-2011-1(1)-paper-16.txt\ndata/txt-out/TIME-2011-1(1)-paper-15.txt\ndata/txt-out/TIME-2011-1(1)-paper-14.txt\ndata/txt-out/TIME-2011-1(1)-paper-13.txt\ndata/txt-out/TIME-2011-1(1)-paper-12.txt\ndata/txt-out/TIME-2011-1(1)-paper-11.txt\ndata/txt-out/TIME-2011-1(1)-paper-10.txt\ndata/txt-out/TIME-2011-1(1)-paper-09.txt\ndata/txt-out/TIME-2011-1(1)-paper-08.txt\ndata/txt-out/TIME-2011-1(1)-paper-07.txt\ndata/txt-out/TIME-2011-1(1)-paper-06.txt\ndata/txt-out/TIME-2011-1(1)-paper-05.txt\ndata/txt-out/TIME-2011-1(1)-paper-04.txt\ndata/txt-out/TIME-2011-1(1)-paper-01.txt\ndata/txt-out/TIME-2010-1(1)-slides-04.txt\ndata/txt-out/TIME-2010-1(1)-paper-21.txt\ndata/txt-out/TIME-2010-1(1)-paper-20.txt\ndata/txt-out/TIME-2010-1(1)-paper-19.txt\ndata/txt-out/TIME-2010-1(1)-paper-18.txt\ndata/txt-out/TIME-2010-1(1)-paper-17.txt\ndata/txt-out/TIME-2010-1(1)-paper-16.txt\ndata/txt-out/TIME-2010-1(1)-paper-15.txt\ndata/txt-out/TIME-2010-1(1)-paper-14.txt\ndata/txt-out/TIME-2010-1(1)-paper-13.txt\ndata/txt-out/TIME-2010-1(1)-paper-12.txt\ndata/txt-out/TIME-2010-1(1)-paper-11.txt\ndata/txt-out/TIME-2010-1(1)-paper-10.txt\ndata/txt-out/TIME-2010-1(1)-paper-09.txt\ndata/txt-out/TIME-2010-1(1)-paper-08.txt\ndata/txt-out/TIME-2010-1(1)-paper-07.txt\ndata/txt-out/TIME-2010-1(1)-paper-06.txt\ndata/txt-out/TIME-2010-1(1)-paper-05.txt\ndata/txt-out/TIME-2010-1(1)-paper-03.txt\ndata/txt-out/TIME-2010-1(1)-paper-02.txt\ndata/txt-out/TIME-2010-1(1)-paper-01.txt\ndata/txt-out/TIME-2009-1(1)-paper-19.txt\ndata/txt-out/TIME-2009-1(1)-paper-18.txt\ndata/txt-out/TIME-2009-1(1)-paper-17.txt\ndata/txt-out/TIME-2009-1(1)-paper-16.txt\ndata/txt-out/TIME-2009-1(1)-paper-15.txt\ndata/txt-out/TIME-2009-1(1)-paper-14.txt\ndata/txt-out/TIME-2009-1(1)-paper-12.txt\ndata/txt-out/TIME-2009-1(1)-paper-11.txt\ndata/txt-out/TIME-2009-1(1)-paper-10.txt\ndata/txt-out/TIME-2009-1(1)-paper-09.txt\ndata/txt-out/TIME-2009-1(1)-paper-08.txt\ndata/txt-out/TIME-2009-1(1)-paper-07.txt\ndata/txt-out/TIME-2009-1(1)-paper-06.txt\ndata/txt-out/TIME-2009-1(1)-paper-05.txt\ndata/txt-out/TIME-2009-1(1)-paper-04.txt\ndata/txt-out/TIME-2009-1(1)-paper-03.txt\ndata/txt-out/TIME-2009-1(1)-paper-02.txt\ndata/txt-out/TIME-2009-1(1)-paper-01.txt\ndata/txt-out/TIME-2008-1(1)-paper-22.txt\ndata/txt-out/TIME-2008-1(1)-paper-21.txt\ndata/txt-out/TIME-2008-1(1)-paper-20.txt\ndata/txt-out/TIME-2008-1(1)-paper-19.txt\ndata/txt-out/TIME-2008-1(1)-paper-18.txt\ndata/txt-out/TIME-2008-1(1)-paper-17.txt\ndata/txt-out/TIME-2008-1(1)-paper-16.txt\ndata/txt-out/TIME-2008-1(1)-paper-15.txt\ndata/txt-out/TIME-2008-1(1)-paper-14.txt\ndata/txt-out/TIME-2008-1(1)-paper-13.txt\ndata/txt-out/TIME-2008-1(1)-paper-12.txt\ndata/txt-out/TIME-2008-1(1)-paper-11.txt\ndata/txt-out/TIME-2008-1(1)-paper-10.txt\ndata/txt-out/TIME-2008-1(1)-paper-09.txt\ndata/txt-out/TIME-2008-1(1)-paper-08.txt\ndata/txt-out/TIME-2008-1(1)-paper-07.txt\ndata/txt-out/TIME-2008-1(1)-paper-06.txt\ndata/txt-out/TIME-2008-1(1)-paper-05.txt\ndata/txt-out/TIME-2008-1(1)-paper-04.txt\ndata/txt-out/TIME-2008-1(1)-paper-03.txt\ndata/txt-out/TIME-2008-1(1)-paper-02.txt\ndata/txt-out/TIME-2008-1(1)-paper-01.txt\ndata/txt-out/TIME-2007-1(1)-slides-06.txt\ndata/txt-out/TIME-2007-1(1)-paper-17.txt\ndata/txt-out/TIME-2007-1(1)-paper-16.txt\ndata/txt-out/TIME-2007-1(1)-paper-15.txt\ndata/txt-out/TIME-2007-1(1)-paper-14.txt\ndata/txt-out/TIME-2007-1(1)-paper-13.txt\ndata/txt-out/TIME-2007-1(1)-paper-12.txt\ndata/txt-out/TIME-2007-1(1)-paper-11.txt\ndata/txt-out/TIME-2007-1(1)-paper-10.txt\ndata/txt-out/TIME-2007-1(1)-paper-08.txt\ndata/txt-out/TIME-2007-1(1)-paper-05.txt\ndata/txt-out/TIME-2007-1(1)-paper-04.txt\ndata/txt-out/TIME-2007-1(1)-paper-03.txt\ndata/txt-out/TIME-2007-1(1)-paper-02.txt\ndata/txt-out/TIME-2007-1(1)-paper-01.txt\ndata/txt-out/TIME-2006-1(1)-paper-26.txt\ndata/txt-out/TIME-2006-1(1)-paper-25.txt\ndata/txt-out/TIME-2006-1(1)-paper-24.txt\ndata/txt-out/TIME-2006-1(1)-paper-23.txt\ndata/txt-out/TIME-2006-1(1)-paper-22.txt\ndata/txt-out/TIME-2006-1(1)-paper-21.txt\ndata/txt-out/TIME-2006-1(1)-paper-20.txt\ndata/txt-out/TIME-2006-1(1)-paper-19.txt\ndata/txt-out/TIME-2006-1(1)-paper-18.txt\ndata/txt-out/TIME-2006-1(1)-paper-17.txt\ndata/txt-out/TIME-2006-1(1)-paper-16.txt\ndata/txt-out/TIME-2006-1(1)-paper-15.txt\ndata/txt-out/TIME-2006-1(1)-paper-14.txt\ndata/txt-out/TIME-2006-1(1)-paper-13.txt\ndata/txt-out/TIME-2006-1(1)-paper-12.txt"
     ]
    },
    {
     "name": "stdout",
     "output_type": "stream",
     "text": [
      "\ndata/txt-out/TIME-2006-1(1)-paper-11.txt\ndata/txt-out/TIME-2006-1(1)-paper-10.txt\ndata/txt-out/TIME-2006-1(1)-paper-09.txt\ndata/txt-out/TIME-2006-1(1)-paper-08.txt\ndata/txt-out/TIME-2006-1(1)-paper-07.txt\ndata/txt-out/TIME-2006-1(1)-paper-06.txt\ndata/txt-out/TIME-2006-1(1)-paper-05.txt\ndata/txt-out/TIME-2006-1(1)-paper-04.txt\ndata/txt-out/TIME-2006-1(1)-paper-03.txt\ndata/txt-out/TIME-2006-1(1)-paper-02.txt\ndata/txt-out/TIME-2006-1(1)-paper-01.txt\ndata/txt-out/TIME-2005-1(1)-slides-17.txt\ndata/txt-out/TIME-2005-1(1)-paper-30.txt\ndata/txt-out/TIME-2005-1(1)-paper-29.txt\ndata/txt-out/TIME-2005-1(1)-paper-28.txt\ndata/txt-out/TIME-2005-1(1)-paper-27.txt\ndata/txt-out/TIME-2005-1(1)-paper-26.txt\ndata/txt-out/TIME-2005-1(1)-paper-25.txt\ndata/txt-out/TIME-2005-1(1)-paper-24.txt\ndata/txt-out/TIME-2005-1(1)-paper-23.txt\ndata/txt-out/TIME-2005-1(1)-paper-22.txt\ndata/txt-out/TIME-2005-1(1)-paper-21.txt\ndata/txt-out/TIME-2005-1(1)-paper-20.txt\ndata/txt-out/TIME-2005-1(1)-paper-19.txt\ndata/txt-out/TIME-2005-1(1)-paper-18.txt\ndata/txt-out/TIME-2005-1(1)-paper-16.txt\ndata/txt-out/TIME-2005-1(1)-paper-15.txt\ndata/txt-out/TIME-2005-1(1)-paper-14.txt\ndata/txt-out/TIME-2005-1(1)-paper-13.txt\ndata/txt-out/TIME-2005-1(1)-paper-12.txt\ndata/txt-out/TIME-2005-1(1)-paper-11.txt\ndata/txt-out/TIME-2005-1(1)-paper-10.txt\ndata/txt-out/TIME-2005-1(1)-paper-09.txt\ndata/txt-out/TIME-2005-1(1)-paper-08.txt\ndata/txt-out/TIME-2005-1(1)-paper-07.txt\ndata/txt-out/TIME-2005-1(1)-paper-06.txt\ndata/txt-out/TIME-2005-1(1)-paper-05.txt\ndata/txt-out/TIME-2005-1(1)-paper-04.txt\ndata/txt-out/TIME-2005-1(1)-paper-03.txt\ndata/txt-out/TIME-2005-1(1)-paper-02.txt\ndata/txt-out/TIME-2005-1(1)-paper-01.txt\ndata/txt-out/TIME-2004-1(1)-paper-21.txt\ndata/txt-out/TIME-2004-1(1)-paper-20.txt\ndata/txt-out/TIME-2004-1(1)-paper-19.txt\ndata/txt-out/TIME-2004-1(1)-paper-18.txt\ndata/txt-out/TIME-2004-1(1)-paper-17.txt\ndata/txt-out/TIME-2004-1(1)-paper-16.txt\ndata/txt-out/TIME-2004-1(1)-paper-15.txt\ndata/txt-out/TIME-2004-1(1)-paper-14.txt\ndata/txt-out/TIME-2004-1(1)-paper-13.txt\ndata/txt-out/TIME-2004-1(1)-paper-12.txt\ndata/txt-out/TIME-2004-1(1)-paper-11.txt\ndata/txt-out/TIME-2004-1(1)-paper-10.txt\ndata/txt-out/TIME-2004-1(1)-paper-09.txt\ndata/txt-out/TIME-2004-1(1)-paper-08.txt\ndata/txt-out/TIME-2004-1(1)-paper-07.txt\ndata/txt-out/TIME-2004-1(1)-paper-06.txt\ndata/txt-out/TIME-2004-1(1)-paper-05.txt\ndata/txt-out/TIME-2004-1(1)-paper-04.txt\ndata/txt-out/TIME-2004-1(1)-paper-03.txt\ndata/txt-out/TIME-2004-1(1)-paper-02.txt\ndata/txt-out/TIME-2004-1(1)-paper-01.txt\ndata/txt-out/TIME-2003-1(1)-slides-13.txt\ndata/txt-out/TIME-2003-1(1)-paper-dke03.txt\ndata/txt-out/TIME-2003-1(1)-paper-27.txt\ndata/txt-out/TIME-2003-1(1)-paper-26.txt\ndata/txt-out/TIME-2003-1(1)-paper-25.txt\ndata/txt-out/TIME-2003-1(1)-paper-24.txt\ndata/txt-out/TIME-2003-1(1)-paper-23.txt\ndata/txt-out/TIME-2003-1(1)-paper-22.txt\ndata/txt-out/TIME-2003-1(1)-paper-21.txt\ndata/txt-out/TIME-2003-1(1)-paper-20.txt\ndata/txt-out/TIME-2003-1(1)-paper-19.txt\ndata/txt-out/TIME-2003-1(1)-paper-18.txt\ndata/txt-out/TIME-2003-1(1)-paper-17.txt\ndata/txt-out/TIME-2003-1(1)-paper-16.txt\ndata/txt-out/TIME-2003-1(1)-paper-15.txt\ndata/txt-out/TIME-2003-1(1)-paper-14.txt\ndata/txt-out/TIME-2003-1(1)-paper-12.txt\ndata/txt-out/TIME-2003-1(1)-paper-11.txt\ndata/txt-out/TIME-2003-1(1)-paper-10.txt\ndata/txt-out/TIME-2003-1(1)-paper-09.txt\ndata/txt-out/TIME-2003-1(1)-paper-08.txt\ndata/txt-out/TIME-2003-1(1)-paper-07.txt\ndata/txt-out/TIME-2003-1(1)-paper-06.txt\ndata/txt-out/TIME-2003-1(1)-paper-05.txt\ndata/txt-out/TIME-2003-1(1)-paper-04.txt\ndata/txt-out/TIME-2003-1(1)-paper-03.txt\ndata/txt-out/TIME-2003-1(1)-paper-02.txt\ndata/txt-out/TIME-2003-1(1)-paper-01.txt\ndata/txt-out/TIME-2002-1(1)-paper-22.txt\ndata/txt-out/TIME-2002-1(1)-paper-21.txt\ndata/txt-out/TIME-2002-1(1)-paper-20.txt\ndata/txt-out/TIME-2002-1(1)-paper-19.txt\ndata/txt-out/TIME-2002-1(1)-paper-18.txt\ndata/txt-out/TIME-2002-1(1)-paper-17.txt\ndata/txt-out/TIME-2002-1(1)-paper-16.txt\ndata/txt-out/TIME-2002-1(1)-paper-15.txt\ndata/txt-out/TIME-2002-1(1)-paper-14.txt\ndata/txt-out/TIME-2002-1(1)-paper-13.txt\ndata/txt-out/TIME-2002-1(1)-paper-12.txt\ndata/txt-out/TIME-2002-1(1)-paper-11.txt\ndata/txt-out/TIME-2002-1(1)-paper-10.txt\ndata/txt-out/TIME-2002-1(1)-paper-09.txt\ndata/txt-out/TIME-2002-1(1)-paper-08.txt\ndata/txt-out/TIME-2002-1(1)-paper-07.txt\ndata/txt-out/TIME-2002-1(1)-paper-06.txt\ndata/txt-out/TIME-2002-1(1)-paper-05.txt\ndata/txt-out/TIME-2002-1(1)-paper-04.txt\ndata/txt-out/TIME-2002-1(1)-paper-03.txt\ndata/txt-out/TIME-2002-1(1)-paper-02.txt\ndata/txt-out/TIME-2002-1(1)-paper-01.txt\n"
     ]
    },
    {
     "name": "stdout",
     "output_type": "stream",
     "text": [
      "data/txt-out/TIME-2001-1(1)-paper-31.txt\ndata/txt-out/TIME-2001-1(1)-paper-30.txt\ndata/txt-out/TIME-2001-1(1)-paper-29.txt\ndata/txt-out/TIME-2001-1(1)-paper-28.txt\ndata/txt-out/TIME-2001-1(1)-paper-27.txt\ndata/txt-out/TIME-2001-1(1)-paper-26.txt\ndata/txt-out/TIME-2001-1(1)-paper-25.txt\ndata/txt-out/TIME-2001-1(1)-paper-24.txt\ndata/txt-out/TIME-2001-1(1)-paper-23.txt\ndata/txt-out/TIME-2001-1(1)-paper-22.txt\ndata/txt-out/TIME-2001-1(1)-paper-21.txt\ndata/txt-out/TIME-2001-1(1)-paper-20.txt\ndata/txt-out/TIME-2001-1(1)-paper-19.txt\ndata/txt-out/TIME-2001-1(1)-paper-18.txt\ndata/txt-out/TIME-2001-1(1)-paper-17.txt\ndata/txt-out/TIME-2001-1(1)-paper-16.txt\ndata/txt-out/TIME-2001-1(1)-paper-15.txt\ndata/txt-out/TIME-2001-1(1)-paper-14.txt\ndata/txt-out/TIME-2001-1(1)-paper-12.txt\ndata/txt-out/TIME-2001-1(1)-paper-10.txt\ndata/txt-out/TIME-2001-1(1)-paper-09.txt\ndata/txt-out/TIME-2001-1(1)-paper-08.txt\ndata/txt-out/TIME-2001-1(1)-paper-07.txt\ndata/txt-out/TIME-2001-1(1)-paper-06.txt\ndata/txt-out/TIME-2001-1(1)-paper-05.txt\ndata/txt-out/TIME-2001-1(1)-paper-04.txt\ndata/txt-out/TIME-2001-1(1)-paper-03.txt\ndata/txt-out/TIME-2001-1(1)-paper-02.txt\ndata/txt-out/TIME-2001-1(1)-paper-01.txt\ndata/txt-out/TIME-2000-1(1)-slides-5.txt\ndata/txt-out/TIME-2000-1(1)-paper-9.txt\ndata/txt-out/TIME-2000-1(1)-paper-8.txt\ndata/txt-out/TIME-2000-1(1)-paper-7.txt\ndata/txt-out/TIME-2000-1(1)-paper-6.txt\ndata/txt-out/TIME-2000-1(1)-paper-4.txt\ndata/txt-out/TIME-2000-1(1)-paper-3.txt\ndata/txt-out/TIME-2000-1(1)-paper-21.txt\ndata/txt-out/TIME-2000-1(1)-paper-20.txt\ndata/txt-out/TIME-2000-1(1)-paper-2.txt\ndata/txt-out/TIME-2000-1(1)-paper-19.txt\ndata/txt-out/TIME-2000-1(1)-paper-18.txt\ndata/txt-out/TIME-2000-1(1)-paper-17.txt\ndata/txt-out/TIME-2000-1(1)-paper-16.txt\ndata/txt-out/TIME-2000-1(1)-paper-15.txt\ndata/txt-out/TIME-2000-1(1)-paper-14.txt\ndata/txt-out/TIME-2000-1(1)-paper-13.txt\ndata/txt-out/TIME-2000-1(1)-paper-12.txt\ndata/txt-out/TIME-2000-1(1)-paper-11.txt\ndata/txt-out/TIME-2000-1(1)-paper-10.txt\ndata/txt-out/TIME-2000-1(1)-paper-1.txt\ndata/txt-out/TIME-1999-1(1)-paper-9.txt\ndata/txt-out/TIME-1999-1(1)-paper-8.txt\ndata/txt-out/TIME-1999-1(1)-paper-7.txt\ndata/txt-out/TIME-1999-1(1)-paper-6.txt\ndata/txt-out/TIME-1999-1(1)-paper-5.txt\ndata/txt-out/TIME-1999-1(1)-paper-4.txt\ndata/txt-out/TIME-1999-1(1)-paper-3.txt\ndata/txt-out/TIME-1999-1(1)-paper-2.txt\ndata/txt-out/TIME-1999-1(1)-paper-12.txt\ndata/txt-out/TIME-1999-1(1)-paper-11.txt\ndata/txt-out/TIME-1999-1(1)-paper-10.txt\ndata/txt-out/TIME-1999-1(1)-paper-1.txt\ndata/txt-out/TIME-1998-1(1)-paper-9.txt\ndata/txt-out/TIME-1998-1(1)-paper-8.txt\ndata/txt-out/TIME-1998-1(1)-paper-7.txt\ndata/txt-out/TIME-1998-1(1)-paper-6.txt\ndata/txt-out/TIME-1998-1(1)-paper-5.txt\ndata/txt-out/TIME-1998-1(1)-paper-4.txt\ndata/txt-out/TIME-1998-1(1)-paper-3.txt\ndata/txt-out/TIME-1998-1(1)-paper-18.txt\ndata/txt-out/TIME-1998-1(1)-paper-17.txt\ndata/txt-out/TIME-1998-1(1)-paper-16.txt\ndata/txt-out/TIME-1998-1(1)-paper-15.txt\ndata/txt-out/TIME-1998-1(1)-paper-14.txt\ndata/txt-out/TIME-1998-1(1)-paper-13.txt\ndata/txt-out/TIME-1998-1(1)-paper-12.txt\ndata/txt-out/TIME-1998-1(1)-paper-11.txt\ndata/txt-out/TIME-1998-1(1)-paper-10.txt\ndata/txt-out/TIME-1997-1(1)-paper-25.txt\ndata/txt-out/TIME-1997-1(1)-paper-24.txt\ndata/txt-out/TIME-1997-1(1)-paper-23.txt\ndata/txt-out/TIME-1997-1(1)-paper-22.txt"
     ]
    },
    {
     "name": "stdout",
     "output_type": "stream",
     "text": [
      "\ndata/txt-out/TIME-1997-1(1)-paper-21.txt\ndata/txt-out/TIME-1997-1(1)-paper-20.txt\ndata/txt-out/TIME-1997-1(1)-paper-19.txt\ndata/txt-out/TIME-1997-1(1)-paper-18.txt\ndata/txt-out/TIME-1997-1(1)-paper-17.txt\ndata/txt-out/TIME-1997-1(1)-paper-16.txt\ndata/txt-out/TIME-1997-1(1)-paper-15.txt\ndata/txt-out/TIME-1997-1(1)-paper-14.txt\ndata/txt-out/TIME-1997-1(1)-paper-13.txt\ndata/txt-out/TIME-1997-1(1)-paper-12.txt\ndata/txt-out/TIME-1997-1(1)-paper-11.txt\ndata/txt-out/TIME-1997-1(1)-paper-10.txt\ndata/txt-out/TIME-1997-1(1)-paper-09.txt\ndata/txt-out/TIME-1997-1(1)-paper-08.txt\ndata/txt-out/TIME-1997-1(1)-paper-07.txt\ndata/txt-out/TIME-1997-1(1)-paper-06.txt\ndata/txt-out/TIME-1997-1(1)-paper-05.txt\ndata/txt-out/TIME-1997-1(1)-paper-04.txt\ndata/txt-out/TIME-1997-1(1)-paper-03.txt\ndata/txt-out/TIME-1997-1(1)-paper-02.txt\ndata/txt-out/TIME-1997-1(1)-paper-01.txt\ndata/txt-out/TIME-1996-1(1)-paper-30.txt\ndata/txt-out/TIME-1996-1(1)-paper-29.txt\ndata/txt-out/TIME-1996-1(1)-paper-28.txt\ndata/txt-out/TIME-1996-1(1)-paper-27.txt\ndata/txt-out/TIME-1996-1(1)-paper-26.txt\ndata/txt-out/TIME-1996-1(1)-paper-25.txt\ndata/txt-out/TIME-1996-1(1)-paper-24.txt\ndata/txt-out/TIME-1996-1(1)-paper-23.txt\ndata/txt-out/TIME-1996-1(1)-paper-22.txt\ndata/txt-out/TIME-1996-1(1)-paper-21.txt\ndata/txt-out/TIME-1996-1(1)-paper-20.txt\ndata/txt-out/TIME-1996-1(1)-paper-19.txt\ndata/txt-out/TIME-1996-1(1)-paper-18.txt\ndata/txt-out/TIME-1996-1(1)-paper-17.txt\ndata/txt-out/TIME-1996-1(1)-paper-16.txt\ndata/txt-out/TIME-1996-1(1)-paper-15.txt\ndata/txt-out/TIME-1996-1(1)-paper-14.txt\ndata/txt-out/TIME-1996-1(1)-paper-13.txt\ndata/txt-out/TIME-1996-1(1)-paper-12.txt\ndata/txt-out/TIME-1996-1(1)-paper-11.txt\ndata/txt-out/TIME-1996-1(1)-paper-10.txt\ndata/txt-out/TIME-1996-1(1)-paper-09.txt\ndata/txt-out/TIME-1996-1(1)-paper-08.txt\ndata/txt-out/TIME-1996-1(1)-paper-07.txt\ndata/txt-out/TIME-1996-1(1)-paper-06.txt\ndata/txt-out/TIME-1996-1(1)-paper-05.txt\ndata/txt-out/TIME-1996-1(1)-paper-04.txt\ndata/txt-out/TIME-1996-1(1)-paper-03.txt\ndata/txt-out/TIME-1996-1(1)-paper-02.txt\ndata/txt-out/TIME-1996-1(1)-paper-01.txt\ndata/txt-out/TIME-1995-1(1)-paper-9.txt\ndata/txt-out/TIME-1995-1(1)-paper-8.txt\ndata/txt-out/TIME-1995-1(1)-paper-7.txt\ndata/txt-out/TIME-1995-1(1)-paper-6.txt\ndata/txt-out/TIME-1995-1(1)-paper-5.txt\ndata/txt-out/TIME-1995-1(1)-paper-4.txt\ndata/txt-out/TIME-1995-1(1)-paper-3.txt\ndata/txt-out/TIME-1995-1(1)-paper-22.txt\ndata/txt-out/TIME-1995-1(1)-paper-21.txt\ndata/txt-out/TIME-1995-1(1)-paper-20.txt\ndata/txt-out/TIME-1995-1(1)-paper-2.txt\ndata/txt-out/TIME-1995-1(1)-paper-18.txt\ndata/txt-out/TIME-1995-1(1)-paper-17.txt\ndata/txt-out/TIME-1995-1(1)-paper-16.txt\ndata/txt-out/TIME-1995-1(1)-paper-15.txt\ndata/txt-out/TIME-1995-1(1)-paper-14.txt\ndata/txt-out/TIME-1995-1(1)-paper-13.txt\ndata/txt-out/TIME-1995-1(1)-paper-12.txt\ndata/txt-out/TIME-1995-1(1)-paper-11.txt\ndata/txt-out/TIME-1995-1(1)-paper-10.txt\ndata/txt-out/TIME-1994-1(1)-paper-9.txt\ndata/txt-out/TIME-1994-1(1)-paper-8.txt\ndata/txt-out/TIME-1994-1(1)-paper-7.txt\ndata/txt-out/TIME-1994-1(1)-paper-6.txt\ndata/txt-out/TIME-1994-1(1)-paper-5.txt\ndata/txt-out/TIME-1994-1(1)-paper-4.txt\ndata/txt-out/TIME-1994-1(1)-paper-3.txt\ndata/txt-out/TIME-1994-1(1)-paper-21.txt\ndata/txt-out/TIME-1994-1(1)-paper-20.txt\ndata/txt-out/TIME-1994-1(1)-paper-19.txt\ndata/txt-out/TIME-1994-1(1)-paper-18.txt\ndata/txt-out/TIME-1994-1(1)-paper-17.txt\ndata/txt-out/TIME-1994-1(1)-paper-16.txt\ndata/txt-out/TIME-1994-1(1)-paper-15.txt\ndata/txt-out/TIME-1994-1(1)-paper-14.txt\ndata/txt-out/TIME-1994-1(1)-paper-13.txt\ndata/txt-out/TIME-1994-1(1)-paper-12.txt\ndata/txt-out/TIME-1994-1(1)-paper-11.txt\ndata/txt-out/TIME-1994-1(1)-paper-10.txt\ndata/txt-out/TIME-1994-1(1)-paper-1.txt\ndata/txt-out/TIME-1994-1(1)-Paper-2.txt\nResults at: data/data_sets/\nCPU times: user 82.2 ms, sys: 44 ms, total: 126 ms\nWall time: 142 ms\n"
     ]
    }
   ],
   "source": [
    "%%time\n",
    "print('rev_chrono full')\n",
    "create_data_set(txt_source_dir = txt_dir, dataset_dest_key = dataset_dest, sample_type = 'rev_chrono', all_files = True)\n",
    "print('Results at: {}'.format(dataset_dest))"
   ]
  },
  {
   "cell_type": "markdown",
   "metadata": {},
   "source": [
    "All the datasets could be found in data/data_sets"
   ]
  },
  {
   "cell_type": "markdown",
   "metadata": {},
   "source": [
    "## Terms Extraction \n",
    "We would start from C-value reference implementation and continue with custom TF method, which could be found in ate/terms_extraction.py"
   ]
  },
  {
   "cell_type": "code",
   "execution_count": 7,
   "metadata": {},
   "outputs": [],
   "source": [
    "from terms_extraction import extract_terms\n",
    "import json"
   ]
  },
  {
   "cell_type": "code",
   "execution_count": 10,
   "metadata": {},
   "outputs": [
    {
     "name": "stdout",
     "output_type": "stream",
     "text": [
      "Source dataset: data/data_sets/rev_chrono_50.txt\nC-value output: data/terms/c_val_terms.csv\nTF output: data/terms/tf_terms.csv\n"
     ]
    }
   ],
   "source": [
    "min_term_length = int(config.get('main', 'min_term_length'))\n",
    "min_term_words = int(config.get('main', 'min_term_words'))\n",
    "stopwords = json.loads(config.get('main', 'stopwords'))\n",
    "term_patterns=json.loads(config.get('main', 'term_patterns'))\n",
    "\n",
    "source_dataset=config.get('main', 'source_dataset')\n",
    "\n",
    "out_file_cval=config.get('main', 'out_file_cval')\n",
    "out_file_tf = config.get('main', 'out_file_tf')\n",
    "print('Source dataset: {}'.format(source_dataset))\n",
    "print('C-value output: {}'.format(out_file_cval))\n",
    "print('TF output: {}'.format(out_file_tf))"
   ]
  },
  {
   "cell_type": "code",
   "execution_count": 11,
   "metadata": {},
   "outputs": [
    {
     "name": "stdout",
     "output_type": "stream",
     "text": [
      "CPU times: user 269 ms, sys: 28 ms, total: 297 ms\nWall time: 296 ms\n"
     ]
    },
    {
     "data": {
      "text/plain": [
       "<listreverseiterator at 0x7fc5fc03f350>"
      ]
     },
     "execution_count": 11,
     "metadata": {},
     "output_type": "execute_result"
    }
   ],
   "source": [
    "%%time\n",
    "extract_terms(method='tf', out_file=out_file_tf)\n"
   ]
  },
  {
   "cell_type": "markdown",
   "metadata": {},
   "source": [
    "TF Results could be found in data/terms/tf_terms.csv\n",
    "5 top terms are:\n",
    "####artificial intelligence,347\n",
    "####temporal constraints,285\n",
    "####temporal logic,267\n",
    "####temporal reasoning,241\n",
    "####computer science,230"
   ]
  },
  {
   "cell_type": "markdown",
   "metadata": {},
   "source": [
    "### C-value"
   ]
  },
  {
   "cell_type": "code",
   "execution_count": 13,
   "metadata": {},
   "outputs": [
    {
     "name": "stdout",
     "output_type": "stream",
     "text": [
      "CPU times: user 3 µs, sys: 0 ns, total: 3 µs\nWall time: 12.2 µs\n"
     ]
    }
   ],
   "source": [
    "%%time\n",
    "if False:\n",
    "    extract_terms(method='cval', out_file=out_file_tf)"
   ]
  },
  {
   "cell_type": "markdown",
   "metadata": {},
   "source": [
    "C-value terms could be found in data/terms/out.csv\n",
    "Takes a really long time to compute, so run only if you have time"
   ]
  },
  {
   "cell_type": "markdown",
   "metadata": {},
   "source": [
    "## Terms grouping is performed in the/terms grouping.py there are two methods\n",
    "First one is based on lexicographical distance and the second one on jaro winkler\n",
    "for more details check group_similar and jaro_winkler \n",
    "methods"
   ]
  },
  {
   "cell_type": "code",
   "execution_count": 1,
   "metadata": {},
   "outputs": [],
   "source": [
    "from terms_grouping import group_similar, jaro_winkler\n"
   ]
  },
  {
   "cell_type": "code",
   "execution_count": 2,
   "metadata": {},
   "outputs": [
    {
     "data": {
      "text/plain": [
       "['hierarchical constraints fei song dept',\n 'canada n1g',\n 'algorithms for allen',\n 'decompositions of intervals',\n 'weak results',\n 'abstract existing',\n 'temporal networks',\n 'interval algebra',\n 'guelph guelph',\n 'information science university',\n 'algorithm for temporal reasoning',\n 'temporal reasoning',\n 'desired stronger results',\n 'strengthened procedure',\n 'such hierarchical constraints',\n 'candidate plans',\n 'plan recognition',\n 'process of plan recognition',\n 'number of candidate plans',\n 'introduction allen']"
      ]
     },
     "execution_count": 2,
     "metadata": {},
     "output_type": "execute_result"
    }
   ],
   "source": [
    "source_terms='data/terms/temp/c_val_raw_terms.txt'\n",
    "with open(source_terms, 'r') as tfile:\n",
    "    terms = tfile.read().splitlines()\n",
    "terms[:20]"
   ]
  },
  {
   "cell_type": "code",
   "execution_count": 3,
   "metadata": {},
   "outputs": [
    {
     "name": "stdout",
     "output_type": "stream",
     "text": [
      "jaro_winkler for first 2000 terms\n"
     ]
    },
    {
     "name": "stdout",
     "output_type": "stream",
     "text": [
      "CPU times: user 25.2 s, sys: 150 ms, total: 25.3 s\nWall time: 25.2 s\n"
     ]
    }
   ],
   "source": [
    "%%time\n",
    "print('jaro_winkler for first 2000 terms')\n",
    "jw_similarities = jaro_winkler(terms[:2000])"
   ]
  },
  {
   "cell_type": "code",
   "execution_count": 4,
   "metadata": {},
   "outputs": [
    {
     "data": {
      "text/plain": [
       "[(('   true i hh', '   trueg'), 0.89),\n (('   true i hh', '  fi'), 0.64),\n (('   true i hh', '  fi  '), 0.73),\n (('   true i hh', '  o ttrm '), 0.78),\n (('   true i hh', '  p'), 0.69),\n (('   true i hh', '  s ttrm '), 0.78),\n (('   true i hh', '  trueg'), 0.83),\n (('   true i hh', ' a3'), 0.52),\n (('   true i hh', ' aci1 o ci2 o '), 0.63),\n (('   true i hh', ' ariic xi'), 0.56),\n (('   true i hh', ' arijc'), 0.55),\n (('   true i hh', ' arijc xi so'), 0.59),\n (('   true i hh', ' at time t'), 0.63),\n (('   true i hh', ' at time t probability'), 0.63),\n (('   true i hh', ' b ackstr om'), 0.65),\n (('   true i hh', ' bylander'), 0.48),\n (('   true i hh', ' chapman'), 0.46),\n (('   true i hh', ' christensen'), 0.53),\n (('   true i hh', ' ciic'), 0.49),\n (('   true i hh', ' construct'), 0.62),\n (('   true i hh', ' dean'), 0.49),\n (('   true i hh', ' e  fe1 '), 0.71),\n (('   true i hh', ' e2g'), 0.5),\n (('   true i hh', ' e3 e4 e5  e6g'), 0.63),\n (('   true i hh', ' e6 i'), 0.57),\n (('   true i hh', ' ex i'), 0.57),\n (('   true i hh', ' figure'), 0.6),\n (('   true i hh', ' gupta'), 0.52),\n (('   true i hh', ' hht  t0 i w ig'), 0.67),\n (('   true i hh', ' k1'), 0.52),\n (('   true i hh', ' knoblock'), 0.46),\n (('   true i hh', ' korf'), 0.57),\n (('   true i hh', ' lansky'), 0.47),\n (('   true i hh', ' lin'), 0.5),\n (('   true i hh', ' logic'), 0.48),\n (('   true i hh', ' nebel'), 0.55),\n (('   true i hh', ' o ttrm '), 0.71),\n (('   true i hh', ' s ttrm '), 0.71),\n (('   true i hh', ' sacerdoti'), 0.62),\n (('   true i hh', ' t  t0'), 0.63),\n (('   true i hh', ' t1i'), 0.6),\n (('   true i hh', ' t2'), 0.52),\n (('   true i hh', ' t3'), 0.52),\n (('   true i hh', ' t3i'), 0.6),\n (('   true i hh', ' trm '), 0.67),\n (('   true i hh', ' ttrm'), 0.66),\n (('   true i hh', ' w w'), 0.6),\n (('   true i hh', ' w1 w2'), 0.55),\n (('   true i hh', ' x1  '), 0.66),\n (('   true i hh', ' x1  x2  '), 0.69),\n (('   true i hh', ' xi'), 0.52),\n (('   true i hh', ' xi  x j'), 0.65),\n (('   true i hh', ' xi  xk 1'), 0.63),\n (('   true i hh', ' xi c1 x1 '), 0.62),\n (('   true i hh', ' xi ci1 x1 '), 0.6),\n (('   true i hh', ' xi cii xi '), 0.6),\n (('   true i hh', ' xi ri1 x1 '), 0.66),\n (('   true i hh', ' xk'), 0.52),\n (('   true i hh', ' xk  xk 1'), 0.63),\n (('   true i hh', ' xm'), 0.52),\n (('   true i hh', ' xn'), 0.52),\n (('   true i hh', ' yang'), 0.49),\n (('   true i hh', '3tuple hr  fii'), 0.65),\n (('   true i hh', 'a  a'), 0.56),\n (('   true i hh', 'a a1'), 0.44),\n (('   true i hh', 'a hierarchical planner'), 0.52),\n (('   true i hh', 'a i hht0  t1i'), 0.64),\n (('   true i hh', 'a includes a1'), 0.47),\n (('   true i hh', 'a includes a2'), 0.47),\n (('   true i hh', 'a localized temporal reasoning algorithm'), 0.39),\n (('   true i hh', 'a models'), 0.47),\n (('   true i hh', 'a1 '), 0.47),\n (('   true i hh', 'a1 includes a1 a2 a1 a3 common'), 0.46),\n (('   true i hh', 'a2 a1'), 0.43),\n (('   true i hh', 'a2 a3 figure'), 0.61),\n (('   true i hh', 'a2 figure'), 0.59),\n (('   true i hh', 'a2 in figure'), 0.56),\n (('   true i hh', 'a3 a2 a1'), 0.47),\n (('   true i hh', 'aaai workshop'), 0.46),\n (('   true i hh', 'above expression'), 0.44),\n (('   true i hh', 'above procedure'), 0.37),\n (('   true i hh', 'abstract actions'), 0.44),\n (('   true i hh', 'abstract condition'), 0.44),\n (('   true i hh', 'abstract conditions'), 0.43),\n (('   true i hh', 'abstract event'), 0.46),\n (('   true i hh', 'abstract event er'), 0.5),\n (('   true i hh', 'abstract event ex'), 0.5),\n (('   true i hh', 'abstract event ey'), 0.5),\n (('   true i hh', 'abstract events'), 0.45),\n (('   true i hh', 'abstract events ex'), 0.5),\n (('   true i hh', 'abstract existing'), 0.5),\n (('   true i hh', 'abstract interval'), 0.44),\n (('   true i hh', 'abstract intervals'), 0.43),\n (('   true i hh', 'abstract operators'), 0.44),\n (('   true i hh', 'abstraction hierarchies'), 0.48),\n (('   true i hh', 'abstraction of r a condition p'), 0.46),\n (('   true i hh', 'abstraction spaces'), 0.44),\n (('   true i hh', 'abstractions for individual regions'), 0.4),\n (('   true i hh', 'abstractions of individual regions'), 0.45),\n (('   true i hh', 'accessibility relation'), 0.35)]"
      ]
     },
     "execution_count": 4,
     "metadata": {},
     "output_type": "execute_result"
    }
   ],
   "source": [
    "jw_similarities[:100]"
   ]
  },
  {
   "cell_type": "code",
   "execution_count": 5,
   "metadata": {},
   "outputs": [
    {
     "name": "stdout",
     "output_type": "stream",
     "text": [
      "lexicographical distance for first 2000 terms\n"
     ]
    }
   ],
   "source": [
    "%%time \n",
    "import numpy as np\n",
    "print('lexicographical distance for first 2000 terms')\n",
    "groups = group_similar(np.unique(terms[:2000]))"
   ]
  },
  {
   "cell_type": "code",
   "execution_count": 8,
   "metadata": {},
   "outputs": [
    {
     "data": {
      "text/plain": [
       "[[' ariic xi', ' arijc', ' arijc xi so', 'aciic xi', 'xi  ariic xi'],\n [' at time t', 'w at time t', 'w1 at time', 'xed time r'],\n [' at time t probability', 'time t probability'],\n [' b ackstr om', 'b ackstr om'],\n [' bylander']]"
      ]
     },
     "execution_count": 8,
     "metadata": {},
     "output_type": "execute_result"
    }
   ],
   "source": [
    "groups[5:10]"
   ]
  },
  {
   "cell_type": "markdown",
   "metadata": {},
   "source": [
    "## Accuracy"
   ]
  },
  {
   "cell_type": "code",
   "execution_count": 9,
   "metadata": {},
   "outputs": [],
   "source": [
    "from utils import f_measure, precision, recall"
   ]
  },
  {
   "cell_type": "code",
   "execution_count": 12,
   "metadata": {},
   "outputs": [
    {
     "data": {
      "text/plain": [
       "['2-consistency',\n '3D views',\n '3-way consistency',\n '4D fluent',\n '4D fluent',\n '4D fluent approach',\n '4D fluents',\n '4D fluents',\n '4D fluents',\n '4D fluents',\n '4D fluents',\n '4D fluents',\n '4D fluents',\n '4D fluents',\n '4D fluents',\n '4D fluents',\n '4D fluents',\n '4D fluents',\n '4D fluents',\n '4D fluents approach']"
      ]
     },
     "execution_count": 12,
     "metadata": {},
     "output_type": "execute_result"
    }
   ],
   "source": [
    "with open('data/terms/golden_standard.csv', 'r') as tfile:\n",
    "    golden_standard = tfile.read().splitlines()\n",
    "golden_standard[:20]"
   ]
  },
  {
   "cell_type": "code",
   "execution_count": 18,
   "metadata": {},
   "outputs": [
    {
     "data": {
      "text/plain": [
       "['artificial intelligence',\n 'temporal constraints',\n 'temporal logic',\n 'temporal reasoning',\n 'computer science',\n '   ',\n 'temporal databases',\n 'time intervals',\n 'temporal representation',\n 'other hand',\n 'time points',\n 'temporal information',\n 'time units',\n 'time interval',\n 'temporal relations',\n '    ',\n 'valid time',\n 'time t',\n 'temporal intervals',\n 'knowledge base']"
      ]
     },
     "execution_count": 18,
     "metadata": {},
     "output_type": "execute_result"
    }
   ],
   "source": [
    "with open('data/terms/tf_terms.csv', 'r') as tfile:\n",
    "    tf_terms = tfile.read().splitlines()\n",
    "tf_terms = [term.split(',')[0] for term in tf_terms]\n",
    "tf_terms[:20]"
   ]
  },
  {
   "cell_type": "code",
   "execution_count": 29,
   "metadata": {},
   "outputs": [
    {
     "name": "stdout",
     "output_type": "stream",
     "text": [
      "recall on a small subset\n"
     ]
    },
    {
     "data": {
      "text/plain": [
       "3.9733178654292343"
      ]
     },
     "execution_count": 29,
     "metadata": {},
     "output_type": "execute_result"
    }
   ],
   "source": [
    "\n",
    "print('recall on a small subset')\n",
    "recall(tf_terms, golden_standard) * 100"
   ]
  },
  {
   "cell_type": "code",
   "execution_count": null,
   "metadata": {},
   "outputs": [],
   "source": []
  }
 ],
 "metadata": {
  "kernelspec": {
   "display_name": "Python 2",
   "language": "python",
   "name": "python2"
  },
  "language_info": {
   "codemirror_mode": {
    "name": "ipython",
    "version": 2
   },
   "file_extension": ".py",
   "mimetype": "text/x-python",
   "name": "python",
   "nbconvert_exporter": "python",
   "pygments_lexer": "ipython2",
   "version": "2.7.6"
  }
 },
 "nbformat": 4,
 "nbformat_minor": 0
}
